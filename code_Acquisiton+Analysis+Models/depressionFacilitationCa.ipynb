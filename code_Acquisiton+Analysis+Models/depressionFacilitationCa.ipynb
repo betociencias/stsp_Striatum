{
 "cells": [
  {
   "cell_type": "markdown",
   "metadata": {},
   "source": [
    "# Ca-dependent short-term synaptic plasticity\n",
    "\n",
    "Presynaptic release \n",
    "\\begin{eqnarray}\n",
    "\\partial_t c &=& \\frac{c_m - c}{\\tau_c}  - \\phi(t)\n",
    "\\\\\n",
    "\\partial_t p &=& \\frac{p_{\\infty}(c) - p}{\\tau_p}\n",
    "\\\\\n",
    "\\partial_t q &=& q \\left( \\frac{q_{\\infty} - q}{\\tau_q} \\right) (1- p)\n",
    "\\end{eqnarray}\n",
    "\n",
    "Stimulation functions\n",
    "\\begin{eqnarray}\n",
    "\\phi(t) &=& \\sum_{i} \\alpha(t-t_i; \\tau)\n",
    "\\\\\n",
    "\\alpha(s) &=& H(s)\\frac{s}{\\tau} \\exp\\left( 1-\\frac{s}{\\tau}\\right), \n",
    "\\end{eqnarray}\n",
    "with $H(s)= 1$ if $s\\geq 0$ and $0$ if $s<0$.\n"
   ]
  },
  {
   "cell_type": "code",
   "execution_count": 11,
   "metadata": {
    "collapsed": true
   },
   "outputs": [],
   "source": [
    "import scipy as sc\n",
    "from scipy.integrate import odeint\n",
    "from scipy.interpolate import interp1d\n",
    "import matplotlib.pylab as gr\n",
    "%matplotlib inline"
   ]
  },
  {
   "cell_type": "markdown",
   "metadata": {},
   "source": [
    "## Stimulation functions"
   ]
  },
  {
   "cell_type": "code",
   "execution_count": 12,
   "metadata": {
    "collapsed": true
   },
   "outputs": [],
   "source": [
    "def alphaFunction(x, A=1.0, tau=1.0, downAccel=1.0):\n",
    "    \"\"\"\n",
    "    alphaFunction creates an alpha function with amplitude A, time constant tau, \n",
    "    and downward acceleration downAccel.  \n",
    "    Example:\n",
    "    alphaFunction(x, A=1.0, tau=1.0, downAccel=1.0)\n",
    "    \"\"\"\n",
    "    aa= sc.int32(x>0)\n",
    "    xovertau = x/tau\n",
    "    return A* aa* xovertau * sc.exp( downAccel*(1 - xovertau))\n",
    "\n",
    "def trainAlpha(samplingTimes, pulseTimes, stimAmp=1.0, tauTrain=1.0,downAccel=1.0):\n",
    "    \"\"\"\n",
    "    Example:\n",
    "    a= trainAlpha(samplingTimes, pulseTimes, tauTrain=1.0,downAccel=1.0)\n",
    "    \"\"\"\n",
    "    nPts= len(samplingTimes)\n",
    "    train = sc.zeros(nPts)\n",
    "    alpha=alphaFunction(samplingTimes,A=stimAmp,tau=tauTrain,downAccel=downAccel)\n",
    "    for n in range(len(pulseTimes)):\n",
    "        #nn=gr.find(samplingTimes<pulseTimes[n]).max()\n",
    "        nn=sc.where(samplingTimes<pulseTimes[n])[0].max()\n",
    "        train[nn:] = train[nn:] + alpha[0: nPts-nn]\n",
    "    return train"
   ]
  },
  {
   "cell_type": "markdown",
   "metadata": {},
   "source": [
    "Parameters"
   ]
  },
  {
   "cell_type": "code",
   "execution_count": 14,
   "metadata": {
    "collapsed": false
   },
   "outputs": [],
   "source": [
    "p={\"tau_pR\": 1.0, \"tau_q\": 30.0, \"tau_c\":50.0, \"tau_syn\":10.0,\n",
    "   \"g_pR\": 1.0/100.0, \"q_ss\":0.9, \"c_ss\": 1e-3, \"stim_Amp\": 0.005,\n",
    "   \"c_p\":0.5}\n",
    "p[\"stimStart\"]=60.0; p[\"stimEnd\"]=500.0; p[\"stimInterval\"]=50.0;\n",
    "p[\"timeMax\"]=600.0; p[\"timeStep\"]=1e-2\n",
    "sampTimes=sc.arange(0,p[\"timeMax\"],p[\"timeStep\"])\n",
    "p[\"sampTimes\"] = sampTimes\n",
    "p[\"stimTimes\"] = sc.arange(p[\"stimStart\"], p[\"stimEnd\"], p[\"stimInterval\"])\n",
    "p[\"stimTrain\"] = trainAlpha(samplingTimes=p[\"sampTimes\"], pulseTimes=p[\"stimTimes\"], stimAmp=p[\"stim_Amp\"], tauTrain=p[\"tau_syn\"])"
   ]
  },
  {
   "cell_type": "code",
   "execution_count": 15,
   "metadata": {
    "collapsed": true
   },
   "outputs": [],
   "source": [
    "p[\"pR_ss\"]= lambda c : 1/(1+ sc.exp((p[\"c_p\"]-c)/p[\"g_pR\"]))\n",
    "p[\"phi\"]= interp1d(p[\"sampTimes\"], p[\"stimTrain\"])"
   ]
  },
  {
   "cell_type": "code",
   "execution_count": 16,
   "metadata": {
    "collapsed": false
   },
   "outputs": [
    {
     "data": {
      "image/png": "[encoded data removed]",
      "text/plain": [
       "<matplotlib.figure.Figure at 0x108ede470>"
      ]
     },
     "metadata": {},
     "output_type": "display_data"
    }
   ],
   "source": [
    "f1=gr.figure(figsize=(15,5))\n",
    "r=1; c=2; gr.ioff()\n",
    "ax1=f1.add_subplot(r,c,1)\n",
    "ax2=f1.add_subplot(r,c,2)\n",
    "ca=sc.arange(0,1,0.001)\n",
    "ax1.plot(ca, p[\"pR_ss\"](ca))\n",
    "ax2.plot(sampTimes, p[\"phi\"](sampTimes))\n",
    "ax1.set_xlabel(\"$[Ca]_i$ ($\\mu$ M)\")\n",
    "ax1.set_ylabel(\"$p_{\\infty}([Ca]_i)$ ($\\mu$ M)\")\n",
    "ax2.set_xlabel(\"time (msecs)\")\n",
    "ax2.set_ylabel(\"$\\mu$ M / msecs\")\n",
    "gr.ion(); gr.draw()"
   ]
  },
  {
   "cell_type": "markdown",
   "metadata": {},
   "source": [
    "## System dynamics"
   ]
  },
  {
   "cell_type": "code",
   "execution_count": 17,
   "metadata": {
    "collapsed": true
   },
   "outputs": [],
   "source": [
    "def preSynCaSTSP(U,t,par):\n",
    "    c,pR,q=U\n",
    "    dc = (par[\"c_ss\"]-c)/par[\"tau_c\"] + par[\"phi\"](t)\n",
    "    dpR = (par[\"pR_ss\"](c) -pR)/par[\"tau_pR\"]\n",
    "    dq =  q * (par[\"q_ss\"] - q) /par[\"tau_q\"] - (1-q)*pR\n",
    "    return sc.array([dc, dpR, dq])"
   ]
  },
  {
   "cell_type": "code",
   "execution_count": 18,
   "metadata": {
    "collapsed": true
   },
   "outputs": [],
   "source": [
    "def RK4(f,p):\n",
    "    return lambda y, t, dt: (\n",
    "            lambda dy1: (\n",
    "            lambda dy2: (\n",
    "            lambda dy3: (\n",
    "            lambda dy4: (dy1 + 2*dy2 + 2*dy3 + dy4)/6\n",
    "            )( dt * f( y + dy3, t + dt  , p   ) )\n",
    "        )( dt * f( y + dy2/2, t + dt/2, p ) )\n",
    "        )( dt * f( y + dy1/2, t + dt/2, p ) )\n",
    "        )( dt * f( y, t, p ) )\n",
    "\n",
    "def solveRK4(p):\n",
    "    U=sc.zeros((p[\"nSteps\"],p[\"nDim\"]),\"float64\")\n",
    "    dU = RK4(p[\"rhs\"],p)\n",
    "    U[0]=p[\"ic\"]\n",
    "    for n in sc.arange(1,p[\"nSteps\"]):\n",
    "        U[n] = U[n-1] + dU( U[n-1], p[\"sampTimes\"][n-1], p[\"timeStep\"])\n",
    "        if (p[\"sampTimes\"][n]%1000)<0.001:\n",
    "            print(\"t=%g, y=%g, w=%g\"%(p[\"sampTimes\"][n], U[n][0],U[n][1]))\n",
    "    return U.transpose()"
   ]
  },
  {
   "cell_type": "code",
   "execution_count": 19,
   "metadata": {
    "collapsed": false
   },
   "outputs": [],
   "source": [
    "p[\"tau_pR\"]= 1.0; p[\"tau_q\"]=30.0; p[\"tau_c\"]=10.0; p[\"tau_syn\"]=10.0,\n",
    "p[\"g_pR\"]= 1.0/100.0; \n",
    "p[\"q_ss\"]=0.9; p[\"c_ss\"]= 1e-3; p[\"stim_Amp\"]= 0.05,\n",
    "p[\"c_p\"]=0.5\n",
    "p[\"rhs\"]=preSynCaSTSP\n",
    "p[\"ic\"]= sc.array([0.001, 0.1, 0.6 ])\n",
    "p[\"nDim\"]=3; p[\"nSteps\"]=len(p[\"sampTimes\"])\n",
    "#p[\"timeMax\"]=600.0; \n",
    "p[\"timeStep\"]=1e-3\n",
    "p[\"sampTimes\"] = sc.arange(0,p[\"timeMax\"],p[\"timeStep\"])\n",
    "orbit=solveRK4(p)\n",
    "#orbit1= odeint(p[\"rhs\"], p[\"ic\"],p[\"sampTimes\"],args=(p,))"
   ]
  },
  {
   "cell_type": "code",
   "execution_count": 9,
   "metadata": {
    "collapsed": false
   },
   "outputs": [
    {
     "name": "stdout",
     "output_type": "stream",
     "text": [
      "(3, 60000)\n",
      "600000 (60000,) (60000,) (60000,) (60000,)\n"
     ]
    }
   ],
   "source": [
    "print(orbit.shape)\n",
    "ca=orbit[0]\n",
    "pR=orbit[1]\n",
    "q=orbit[2]\n",
    "pRq= pR*q\n",
    "print(len(p[\"sampTimes\"]),ca.shape, pR.shape, q.shape, pRq.shape)"
   ]
  },
  {
   "cell_type": "code",
   "execution_count": 10,
   "metadata": {
    "collapsed": false
   },
   "outputs": [
    {
     "ename": "ValueError",
     "evalue": "x and y must have same first dimension",
     "output_type": "error",
     "traceback": [
      "\u001b[0;31m---------------------------------------------------------------------------\u001b[0m",
      "\u001b[0;31mValueError\u001b[0m                                Traceback (most recent call last)",
      "\u001b[0;32m<ipython-input-10-b1f76a58172c>\u001b[0m in \u001b[0;36m<module>\u001b[0;34m()\u001b[0m\n\u001b[1;32m      7\u001b[0m \u001b[0;34m\u001b[0m\u001b[0m\n\u001b[1;32m      8\u001b[0m \u001b[0;32mfor\u001b[0m \u001b[0mn\u001b[0m \u001b[0;32min\u001b[0m \u001b[0msc\u001b[0m\u001b[0;34m.\u001b[0m\u001b[0marange\u001b[0m\u001b[0;34m(\u001b[0m\u001b[0mr\u001b[0m\u001b[0;34m)\u001b[0m\u001b[0;34m:\u001b[0m\u001b[0;34m\u001b[0m\u001b[0m\n\u001b[0;32m----> 9\u001b[0;31m     \u001b[0max\u001b[0m\u001b[0;34m[\u001b[0m\u001b[0mc\u001b[0m\u001b[0;34m*\u001b[0m\u001b[0mn\u001b[0m\u001b[0;34m]\u001b[0m\u001b[0;34m.\u001b[0m\u001b[0mplot\u001b[0m\u001b[0;34m(\u001b[0m\u001b[0mp\u001b[0m\u001b[0;34m[\u001b[0m\u001b[0;34m\"sampTimes\"\u001b[0m\u001b[0;34m]\u001b[0m\u001b[0;34m,\u001b[0m\u001b[0morbit\u001b[0m\u001b[0;34m[\u001b[0m\u001b[0mn\u001b[0m\u001b[0;34m]\u001b[0m\u001b[0;34m,\u001b[0m\u001b[0mlabel\u001b[0m\u001b[0;34m=\u001b[0m\u001b[0mlabs\u001b[0m\u001b[0;34m[\u001b[0m\u001b[0mn\u001b[0m\u001b[0;34m]\u001b[0m\u001b[0;34m)\u001b[0m\u001b[0;34m\u001b[0m\u001b[0m\n\u001b[0m\u001b[1;32m     10\u001b[0m \u001b[0;34m\u001b[0m\u001b[0m\n\u001b[1;32m     11\u001b[0m \u001b[0max\u001b[0m\u001b[0;34m[\u001b[0m\u001b[0;36m2\u001b[0m\u001b[0;34m]\u001b[0m\u001b[0;34m.\u001b[0m\u001b[0mplot\u001b[0m\u001b[0;34m(\u001b[0m\u001b[0mp\u001b[0m\u001b[0;34m[\u001b[0m\u001b[0;34m\"sampTimes\"\u001b[0m\u001b[0;34m]\u001b[0m\u001b[0;34m,\u001b[0m \u001b[0mpRq\u001b[0m\u001b[0;34m,\u001b[0m\u001b[0mlabel\u001b[0m\u001b[0;34m=\u001b[0m\u001b[0;34mr\"$pq$\"\u001b[0m\u001b[0;34m)\u001b[0m\u001b[0;34m\u001b[0m\u001b[0m\n",
      "\u001b[0;32m/Library/Frameworks/Python.framework/Versions/3.5/lib/python3.5/site-packages/matplotlib/__init__.py\u001b[0m in \u001b[0;36minner\u001b[0;34m(ax, *args, **kwargs)\u001b[0m\n\u001b[1;32m   1810\u001b[0m                     warnings.warn(msg % (label_namer, func.__name__),\n\u001b[1;32m   1811\u001b[0m                                   RuntimeWarning, stacklevel=2)\n\u001b[0;32m-> 1812\u001b[0;31m             \u001b[0;32mreturn\u001b[0m \u001b[0mfunc\u001b[0m\u001b[0;34m(\u001b[0m\u001b[0max\u001b[0m\u001b[0;34m,\u001b[0m \u001b[0;34m*\u001b[0m\u001b[0margs\u001b[0m\u001b[0;34m,\u001b[0m \u001b[0;34m**\u001b[0m\u001b[0mkwargs\u001b[0m\u001b[0;34m)\u001b[0m\u001b[0;34m\u001b[0m\u001b[0m\n\u001b[0m\u001b[1;32m   1813\u001b[0m         \u001b[0mpre_doc\u001b[0m \u001b[0;34m=\u001b[0m \u001b[0minner\u001b[0m\u001b[0;34m.\u001b[0m\u001b[0m__doc__\u001b[0m\u001b[0;34m\u001b[0m\u001b[0m\n\u001b[1;32m   1814\u001b[0m         \u001b[0;32mif\u001b[0m \u001b[0mpre_doc\u001b[0m \u001b[0;32mis\u001b[0m \u001b[0;32mNone\u001b[0m\u001b[0;34m:\u001b[0m\u001b[0;34m\u001b[0m\u001b[0m\n",
      "\u001b[0;32m/Library/Frameworks/Python.framework/Versions/3.5/lib/python3.5/site-packages/matplotlib/axes/_axes.py\u001b[0m in \u001b[0;36mplot\u001b[0;34m(self, *args, **kwargs)\u001b[0m\n\u001b[1;32m   1422\u001b[0m             \u001b[0mkwargs\u001b[0m\u001b[0;34m[\u001b[0m\u001b[0;34m'color'\u001b[0m\u001b[0;34m]\u001b[0m \u001b[0;34m=\u001b[0m \u001b[0mc\u001b[0m\u001b[0;34m\u001b[0m\u001b[0m\n\u001b[1;32m   1423\u001b[0m \u001b[0;34m\u001b[0m\u001b[0m\n\u001b[0;32m-> 1424\u001b[0;31m         \u001b[0;32mfor\u001b[0m \u001b[0mline\u001b[0m \u001b[0;32min\u001b[0m \u001b[0mself\u001b[0m\u001b[0;34m.\u001b[0m\u001b[0m_get_lines\u001b[0m\u001b[0;34m(\u001b[0m\u001b[0;34m*\u001b[0m\u001b[0margs\u001b[0m\u001b[0;34m,\u001b[0m \u001b[0;34m**\u001b[0m\u001b[0mkwargs\u001b[0m\u001b[0;34m)\u001b[0m\u001b[0;34m:\u001b[0m\u001b[0;34m\u001b[0m\u001b[0m\n\u001b[0m\u001b[1;32m   1425\u001b[0m             \u001b[0mself\u001b[0m\u001b[0;34m.\u001b[0m\u001b[0madd_line\u001b[0m\u001b[0;34m(\u001b[0m\u001b[0mline\u001b[0m\u001b[0;34m)\u001b[0m\u001b[0;34m\u001b[0m\u001b[0m\n\u001b[1;32m   1426\u001b[0m             \u001b[0mlines\u001b[0m\u001b[0;34m.\u001b[0m\u001b[0mappend\u001b[0m\u001b[0;34m(\u001b[0m\u001b[0mline\u001b[0m\u001b[0;34m)\u001b[0m\u001b[0;34m\u001b[0m\u001b[0m\n",
      "\u001b[0;32m/Library/Frameworks/Python.framework/Versions/3.5/lib/python3.5/site-packages/matplotlib/axes/_base.py\u001b[0m in \u001b[0;36m_grab_next_args\u001b[0;34m(self, *args, **kwargs)\u001b[0m\n\u001b[1;32m    384\u001b[0m                 \u001b[0;32mreturn\u001b[0m\u001b[0;34m\u001b[0m\u001b[0m\n\u001b[1;32m    385\u001b[0m             \u001b[0;32mif\u001b[0m \u001b[0mlen\u001b[0m\u001b[0;34m(\u001b[0m\u001b[0mremaining\u001b[0m\u001b[0;34m)\u001b[0m \u001b[0;34m<=\u001b[0m \u001b[0;36m3\u001b[0m\u001b[0;34m:\u001b[0m\u001b[0;34m\u001b[0m\u001b[0m\n\u001b[0;32m--> 386\u001b[0;31m                 \u001b[0;32mfor\u001b[0m \u001b[0mseg\u001b[0m \u001b[0;32min\u001b[0m \u001b[0mself\u001b[0m\u001b[0;34m.\u001b[0m\u001b[0m_plot_args\u001b[0m\u001b[0;34m(\u001b[0m\u001b[0mremaining\u001b[0m\u001b[0;34m,\u001b[0m \u001b[0mkwargs\u001b[0m\u001b[0;34m)\u001b[0m\u001b[0;34m:\u001b[0m\u001b[0;34m\u001b[0m\u001b[0m\n\u001b[0m\u001b[1;32m    387\u001b[0m                     \u001b[0;32myield\u001b[0m \u001b[0mseg\u001b[0m\u001b[0;34m\u001b[0m\u001b[0m\n\u001b[1;32m    388\u001b[0m                 \u001b[0;32mreturn\u001b[0m\u001b[0;34m\u001b[0m\u001b[0m\n",
      "\u001b[0;32m/Library/Frameworks/Python.framework/Versions/3.5/lib/python3.5/site-packages/matplotlib/axes/_base.py\u001b[0m in \u001b[0;36m_plot_args\u001b[0;34m(self, tup, kwargs)\u001b[0m\n\u001b[1;32m    362\u001b[0m             \u001b[0mx\u001b[0m\u001b[0;34m,\u001b[0m \u001b[0my\u001b[0m \u001b[0;34m=\u001b[0m \u001b[0mindex_of\u001b[0m\u001b[0;34m(\u001b[0m\u001b[0mtup\u001b[0m\u001b[0;34m[\u001b[0m\u001b[0;34m-\u001b[0m\u001b[0;36m1\u001b[0m\u001b[0;34m]\u001b[0m\u001b[0;34m)\u001b[0m\u001b[0;34m\u001b[0m\u001b[0m\n\u001b[1;32m    363\u001b[0m \u001b[0;34m\u001b[0m\u001b[0m\n\u001b[0;32m--> 364\u001b[0;31m         \u001b[0mx\u001b[0m\u001b[0;34m,\u001b[0m \u001b[0my\u001b[0m \u001b[0;34m=\u001b[0m \u001b[0mself\u001b[0m\u001b[0;34m.\u001b[0m\u001b[0m_xy_from_xy\u001b[0m\u001b[0;34m(\u001b[0m\u001b[0mx\u001b[0m\u001b[0;34m,\u001b[0m \u001b[0my\u001b[0m\u001b[0;34m)\u001b[0m\u001b[0;34m\u001b[0m\u001b[0m\n\u001b[0m\u001b[1;32m    365\u001b[0m \u001b[0;34m\u001b[0m\u001b[0m\n\u001b[1;32m    366\u001b[0m         \u001b[0;32mif\u001b[0m \u001b[0mself\u001b[0m\u001b[0;34m.\u001b[0m\u001b[0mcommand\u001b[0m \u001b[0;34m==\u001b[0m \u001b[0;34m'plot'\u001b[0m\u001b[0;34m:\u001b[0m\u001b[0;34m\u001b[0m\u001b[0m\n",
      "\u001b[0;32m/Library/Frameworks/Python.framework/Versions/3.5/lib/python3.5/site-packages/matplotlib/axes/_base.py\u001b[0m in \u001b[0;36m_xy_from_xy\u001b[0;34m(self, x, y)\u001b[0m\n\u001b[1;32m    221\u001b[0m         \u001b[0my\u001b[0m \u001b[0;34m=\u001b[0m \u001b[0m_check_1d\u001b[0m\u001b[0;34m(\u001b[0m\u001b[0my\u001b[0m\u001b[0;34m)\u001b[0m\u001b[0;34m\u001b[0m\u001b[0m\n\u001b[1;32m    222\u001b[0m         \u001b[0;32mif\u001b[0m \u001b[0mx\u001b[0m\u001b[0;34m.\u001b[0m\u001b[0mshape\u001b[0m\u001b[0;34m[\u001b[0m\u001b[0;36m0\u001b[0m\u001b[0;34m]\u001b[0m \u001b[0;34m!=\u001b[0m \u001b[0my\u001b[0m\u001b[0;34m.\u001b[0m\u001b[0mshape\u001b[0m\u001b[0;34m[\u001b[0m\u001b[0;36m0\u001b[0m\u001b[0;34m]\u001b[0m\u001b[0;34m:\u001b[0m\u001b[0;34m\u001b[0m\u001b[0m\n\u001b[0;32m--> 223\u001b[0;31m             \u001b[0;32mraise\u001b[0m \u001b[0mValueError\u001b[0m\u001b[0;34m(\u001b[0m\u001b[0;34m\"x and y must have same first dimension\"\u001b[0m\u001b[0;34m)\u001b[0m\u001b[0;34m\u001b[0m\u001b[0m\n\u001b[0m\u001b[1;32m    224\u001b[0m         \u001b[0;32mif\u001b[0m \u001b[0mx\u001b[0m\u001b[0;34m.\u001b[0m\u001b[0mndim\u001b[0m \u001b[0;34m>\u001b[0m \u001b[0;36m2\u001b[0m \u001b[0;32mor\u001b[0m \u001b[0my\u001b[0m\u001b[0;34m.\u001b[0m\u001b[0mndim\u001b[0m \u001b[0;34m>\u001b[0m \u001b[0;36m2\u001b[0m\u001b[0;34m:\u001b[0m\u001b[0;34m\u001b[0m\u001b[0m\n\u001b[1;32m    225\u001b[0m             \u001b[0;32mraise\u001b[0m \u001b[0mValueError\u001b[0m\u001b[0;34m(\u001b[0m\u001b[0;34m\"x and y can be no greater than 2-D\"\u001b[0m\u001b[0;34m)\u001b[0m\u001b[0;34m\u001b[0m\u001b[0m\n",
      "\u001b[0;31mValueError\u001b[0m: x and y must have same first dimension"
     ]
    },
    {
     "data": {
      "image/png": "[encoded data removed]",
      "text/plain": [
       "<matplotlib.figure.Figure at 0x10743cf98>"
      ]
     },
     "metadata": {},
     "output_type": "display_data"
    }
   ],
   "source": [
    "f2=gr.figure(figsize=(15,11))\n",
    "r=3; c=2; gr.ioff()\n",
    "ax=list()\n",
    "labs=[r\"$c$\", r\"$p$\", r\"$q$\"]\n",
    "for n in sc.arange(r*c):\n",
    "    ax.append(f2.add_subplot(r,c,n+1))\n",
    "    \n",
    "for n in sc.arange(r):    \n",
    "    ax[c*n].plot(p[\"sampTimes\"],orbit[n],label=labs[n])\n",
    "\n",
    "ax[2].plot(p[\"sampTimes\"], pRq,label=r\"$pq$\")\n",
    "ax[4].plot(p[\"sampTimes\"], pRq,label=r\"$pq$\")\n",
    "\n",
    "ax[1].plot(pR, ca, label=r\"$(p,c)$\")    \n",
    "ax[3].plot(ca, pR, 'b', label=r\"$(c,p)$\") \n",
    "ax[3].plot(ca, pRq, 'g', label=r\"$(c,qp)$\") \n",
    "ax[5].plot(ca, q, 'b', label=r\"$(c,q)$\")\n",
    "ax[5].plot(ca, pRq, 'g', label=r\"$(c,qp)$\")\n",
    "\n",
    "\n",
    "for n in sc.arange(r):\n",
    "    ax[c*n +1].set_xlim(0,1)\n",
    "\n",
    "for n in sc.arange(r*c):\n",
    "    ax[n].set_ylim(0,1)\n",
    "    ax[n].legend()\n",
    "\n",
    "gr.ion(); gr.draw();"
   ]
  },
  {
   "cell_type": "code",
   "execution_count": null,
   "metadata": {
    "collapsed": true
   },
   "outputs": [],
   "source": []
  }
 ],
 "metadata": {
  "kernelspec": {
   "display_name": "Python 3",
   "language": "python",
   "name": "python3"
  },
  "language_info": {
   "codemirror_mode": {
    "name": "ipython",
    "version": 3
   },
   "file_extension": ".py",
   "mimetype": "text/x-python",
   "name": "python",
   "nbconvert_exporter": "python",
   "pygments_lexer": "ipython3",
   "version": "3.5.1"
  }
 },
 "nbformat": 4,
 "nbformat_minor": 0
}
